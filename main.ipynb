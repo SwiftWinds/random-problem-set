{
 "metadata": {
  "language_info": {
   "codemirror_mode": {
    "name": "ipython",
    "version": 3
   },
   "file_extension": ".py",
   "mimetype": "text/x-python",
   "name": "python",
   "nbconvert_exporter": "python",
   "pygments_lexer": "ipython3",
   "version": "3.8.5-final"
  },
  "orig_nbformat": 2,
  "kernelspec": {
   "name": "python38564bit5173529f1a1b41d08c67f7ccc77fc69c",
   "display_name": "Python 3.8.5 64-bit"
  }
 },
 "nbformat": 4,
 "nbformat_minor": 2,
 "cells": [
  {
   "cell_type": "code",
   "execution_count": 45,
   "metadata": {},
   "outputs": [],
   "source": [
    "s = \"\"\"2.2, 7-16, 17-26, 29, 31\n",
    "2.3, 7-16, 17-22, 28, 30, 31\n",
    "2.4, 9-20, 21-26, 27, 28, 29, 30\n",
    "4.2, 1-20\n",
    "4.3, 1-18, 21-26\n",
    "4.4, 9-26\n",
    "4.5, 17-30\n",
    "4.6, 1-8, 11-18\n",
    "4.7, 9-14, 19, 20, 23, 24\n",
    "4.2, 27-32\n",
    "4.7, 25-29, 36\n",
    "4.2, 34\n",
    "4.7, 32, 33, 34\n",
    "4.4, 27-32\n",
    "4.5, 3-8, 9-16, 31-36\n",
    "4.7, 30, 35\n",
    "4.3, 31-33\n",
    "4.5, 42-44\n",
    "4.9, 1-12\n",
    "4.10, 3, 4, 8, 9, 11-15\n",
    "7.2, 1-12\n",
    "7.2, 13-20\n",
    "7.3, 1-20, 24, 25\n",
    "7.6, 1-4, 5-10\n",
    "7.7, 1-4, 5-8\n",
    "7.7, 15-18, 19\n",
    "7.4, 1-10, 21-30, 33-36\n",
    "7.6, 11-18\n",
    "7.7, 20, 23, 24, 25\n",
    "7.8, 5-12\n",
    "7.5, 1-14, 35-38\n",
    "7.6, 19-20, 21-24, 25-32\n",
    "7.8, 1-4\n",
    "7.8, 15-22\n",
    "9.1, 1-6\n",
    "9.4, 1-4\n",
    "9.1, 7-10\n",
    "9.4, 5-8\n",
    "9.4, 13-19, 20\n",
    "9.4, 21-24, 25-26, 29-30\n",
    "9.5, 11-16, 25-26, 31-34, 35-36\n",
    "9.6, 1-4, 13-14\n",
    "9.5, 19-24\n",
    "9.6, 5-9\n",
    "8.2, 1-6, 8\n",
    "8.2, 17-22\n",
    "8.2, 29-34, 35\n",
    "8.3, 1-10\n",
    "8.4, 1-6\n",
    "8.3, 11-18\n",
    "8.4, 7-12\n",
    "8.3, 19-24\n",
    "8.3, 25-28\n",
    "8.4, 13-19\n",
    "10.2, 1-8, 9-14\n",
    "10.2, 15-18, 27-30\"\"\""
   ]
  },
  {
   "cell_type": "code",
   "execution_count": 46,
   "metadata": {},
   "outputs": [],
   "source": [
    "s = s.splitlines()"
   ]
  },
  {
   "cell_type": "code",
   "execution_count": 47,
   "metadata": {},
   "outputs": [],
   "source": [
    "result = map(lambda chapter: chapter.split(\", \", 1), s)"
   ]
  },
  {
   "cell_type": "code",
   "execution_count": 48,
   "metadata": {},
   "outputs": [],
   "source": [
    "result = list(result)"
   ]
  },
  {
   "cell_type": "code",
   "execution_count": 49,
   "metadata": {
    "tags": []
   },
   "outputs": [
    {
     "output_type": "stream",
     "name": "stdout",
     "text": "[['2.2', '7-16, 17-26, 29, 31'], ['2.3', '7-16, 17-22, 28, 30, 31'], ['2.4', '9-20, 21-26, 27, 28, 29, 30'], ['4.2', '1-20'], ['4.3', '1-18, 21-26'], ['4.4', '9-26'], ['4.5', '17-30'], ['4.6', '1-8, 11-18'], ['4.7', '9-14, 19, 20, 23, 24'], ['4.2', '27-32'], ['4.7', '25-29, 36'], ['4.2', '34'], ['4.7', '32, 33, 34'], ['4.4', '27-32'], ['4.5', '3-8, 9-16, 31-36'], ['4.7', '30, 35'], ['4.3', '31-33'], ['4.5', '42-44'], ['4.9', '1-12'], ['4.10', '3, 4, 8, 9, 11-15'], ['7.2', '1-12'], ['7.2', '13-20'], ['7.3', '1-20, 24, 25'], ['7.6', '1-4, 5-10'], ['7.7', '1-4, 5-8'], ['7.7', '15-18, 19'], ['7.4', '1-10, 21-30, 33-36'], ['7.6', '11-18'], ['7.7', '20, 23, 24, 25'], ['7.8', '5-12'], ['7.5', '1-14, 35-38'], ['7.6', '19-20, 21-24, 25-32'], ['7.8', '1-4'], ['7.8', '15-22'], ['9.1', '1-6'], ['9.4', '1-4'], ['9.1', '7-10'], ['9.4', '5-8'], ['9.4', '13-19, 20'], ['9.4', '21-24, 25-26, 29-30'], ['9.5', '11-16, 25-26, 31-34, 35-36'], ['9.6', '1-4, 13-14'], ['9.5', '19-24'], ['9.6', '5-9'], ['8.2', '1-6, 8'], ['8.2', '17-22'], ['8.2', '29-34, 35'], ['8.3', '1-10'], ['8.4', '1-6'], ['8.3', '11-18'], ['8.4', '7-12'], ['8.3', '19-24'], ['8.3', '25-28'], ['8.4', '13-19'], ['10.2', '1-8, 9-14'], ['10.2', '15-18, 27-30']]\n"
    }
   ],
   "source": [
    "print(result)"
   ]
  },
  {
   "cell_type": "code",
   "execution_count": 50,
   "metadata": {},
   "outputs": [],
   "source": [
    "def string_range_to_list(my_str):\n",
    "    print(\"The original string is : \" + my_str) \n",
    "    temp = [(lambda sub: range(sub[0], sub[-1] + 1))(list(map(int, ele.split('-')))) for ele in my_str.split(', ')] \n",
    "    res = [b for a in temp for b in a]\n",
    "    print(\"List after converting it from string : \" + str(res)) \n",
    "    return res"
   ]
  },
  {
   "cell_type": "code",
   "execution_count": 51,
   "metadata": {
    "tags": []
   },
   "outputs": [
    {
     "output_type": "stream",
     "name": "stdout",
     "text": "The original string is : 1, 4-5, 7-11, 11\nList after converting it from string : [1, 4, 5, 7, 8, 9, 10, 11, 11]\n"
    },
    {
     "output_type": "execute_result",
     "data": {
      "text/plain": "[1, 4, 5, 7, 8, 9, 10, 11, 11]"
     },
     "metadata": {},
     "execution_count": 51
    }
   ],
   "source": [
    "string_range_to_list(\"1, 4-5, 7-11, 11\")"
   ]
  },
  {
   "cell_type": "code",
   "execution_count": 52,
   "metadata": {},
   "outputs": [],
   "source": [
    "result = map(lambda chapter: [chapter[0], string_range_to_list(chapter[1])], result)"
   ]
  },
  {
   "cell_type": "code",
   "execution_count": 53,
   "metadata": {
    "tags": []
   },
   "outputs": [
    {
     "output_type": "stream",
     "name": "stdout",
     "text": "The original string is : 7-16, 17-26, 29, 31\nList after converting it from string : [7, 8, 9, 10, 11, 12, 13, 14, 15, 16, 17, 18, 19, 20, 21, 22, 23, 24, 25, 26, 29, 31]\nThe original string is : 7-16, 17-22, 28, 30, 31\nList after converting it from string : [7, 8, 9, 10, 11, 12, 13, 14, 15, 16, 17, 18, 19, 20, 21, 22, 28, 30, 31]\nThe original string is : 9-20, 21-26, 27, 28, 29, 30\nList after converting it from string : [9, 10, 11, 12, 13, 14, 15, 16, 17, 18, 19, 20, 21, 22, 23, 24, 25, 26, 27, 28, 29, 30]\nThe original string is : 1-20\nList after converting it from string : [1, 2, 3, 4, 5, 6, 7, 8, 9, 10, 11, 12, 13, 14, 15, 16, 17, 18, 19, 20]\nThe original string is : 1-18, 21-26\nList after converting it from string : [1, 2, 3, 4, 5, 6, 7, 8, 9, 10, 11, 12, 13, 14, 15, 16, 17, 18, 21, 22, 23, 24, 25, 26]\nThe original string is : 9-26\nList after converting it from string : [9, 10, 11, 12, 13, 14, 15, 16, 17, 18, 19, 20, 21, 22, 23, 24, 25, 26]\nThe original string is : 17-30\nList after converting it from string : [17, 18, 19, 20, 21, 22, 23, 24, 25, 26, 27, 28, 29, 30]\nThe original string is : 1-8, 11-18\nList after converting it from string : [1, 2, 3, 4, 5, 6, 7, 8, 11, 12, 13, 14, 15, 16, 17, 18]\nThe original string is : 9-14, 19, 20, 23, 24\nList after converting it from string : [9, 10, 11, 12, 13, 14, 19, 20, 23, 24]\nThe original string is : 27-32\nList after converting it from string : [27, 28, 29, 30, 31, 32]\nThe original string is : 25-29, 36\nList after converting it from string : [25, 26, 27, 28, 29, 36]\nThe original string is : 34\nList after converting it from string : [34]\nThe original string is : 32, 33, 34\nList after converting it from string : [32, 33, 34]\nThe original string is : 27-32\nList after converting it from string : [27, 28, 29, 30, 31, 32]\nThe original string is : 3-8, 9-16, 31-36\nList after converting it from string : [3, 4, 5, 6, 7, 8, 9, 10, 11, 12, 13, 14, 15, 16, 31, 32, 33, 34, 35, 36]\nThe original string is : 30, 35\nList after converting it from string : [30, 35]\nThe original string is : 31-33\nList after converting it from string : [31, 32, 33]\nThe original string is : 42-44\nList after converting it from string : [42, 43, 44]\nThe original string is : 1-12\nList after converting it from string : [1, 2, 3, 4, 5, 6, 7, 8, 9, 10, 11, 12]\nThe original string is : 3, 4, 8, 9, 11-15\nList after converting it from string : [3, 4, 8, 9, 11, 12, 13, 14, 15]\nThe original string is : 1-12\nList after converting it from string : [1, 2, 3, 4, 5, 6, 7, 8, 9, 10, 11, 12]\nThe original string is : 13-20\nList after converting it from string : [13, 14, 15, 16, 17, 18, 19, 20]\nThe original string is : 1-20, 24, 25\nList after converting it from string : [1, 2, 3, 4, 5, 6, 7, 8, 9, 10, 11, 12, 13, 14, 15, 16, 17, 18, 19, 20, 24, 25]\nThe original string is : 1-4, 5-10\nList after converting it from string : [1, 2, 3, 4, 5, 6, 7, 8, 9, 10]\nThe original string is : 1-4, 5-8\nList after converting it from string : [1, 2, 3, 4, 5, 6, 7, 8]\nThe original string is : 15-18, 19\nList after converting it from string : [15, 16, 17, 18, 19]\nThe original string is : 1-10, 21-30, 33-36\nList after converting it from string : [1, 2, 3, 4, 5, 6, 7, 8, 9, 10, 21, 22, 23, 24, 25, 26, 27, 28, 29, 30, 33, 34, 35, 36]\nThe original string is : 11-18\nList after converting it from string : [11, 12, 13, 14, 15, 16, 17, 18]\nThe original string is : 20, 23, 24, 25\nList after converting it from string : [20, 23, 24, 25]\nThe original string is : 5-12\nList after converting it from string : [5, 6, 7, 8, 9, 10, 11, 12]\nThe original string is : 1-14, 35-38\nList after converting it from string : [1, 2, 3, 4, 5, 6, 7, 8, 9, 10, 11, 12, 13, 14, 35, 36, 37, 38]\nThe original string is : 19-20, 21-24, 25-32\nList after converting it from string : [19, 20, 21, 22, 23, 24, 25, 26, 27, 28, 29, 30, 31, 32]\nThe original string is : 1-4\nList after converting it from string : [1, 2, 3, 4]\nThe original string is : 15-22\nList after converting it from string : [15, 16, 17, 18, 19, 20, 21, 22]\nThe original string is : 1-6\nList after converting it from string : [1, 2, 3, 4, 5, 6]\nThe original string is : 1-4\nList after converting it from string : [1, 2, 3, 4]\nThe original string is : 7-10\nList after converting it from string : [7, 8, 9, 10]\nThe original string is : 5-8\nList after converting it from string : [5, 6, 7, 8]\nThe original string is : 13-19, 20\nList after converting it from string : [13, 14, 15, 16, 17, 18, 19, 20]\nThe original string is : 21-24, 25-26, 29-30\nList after converting it from string : [21, 22, 23, 24, 25, 26, 29, 30]\nThe original string is : 11-16, 25-26, 31-34, 35-36\nList after converting it from string : [11, 12, 13, 14, 15, 16, 25, 26, 31, 32, 33, 34, 35, 36]\nThe original string is : 1-4, 13-14\nList after converting it from string : [1, 2, 3, 4, 13, 14]\nThe original string is : 19-24\nList after converting it from string : [19, 20, 21, 22, 23, 24]\nThe original string is : 5-9\nList after converting it from string : [5, 6, 7, 8, 9]\nThe original string is : 1-6, 8\nList after converting it from string : [1, 2, 3, 4, 5, 6, 8]\nThe original string is : 17-22\nList after converting it from string : [17, 18, 19, 20, 21, 22]\nThe original string is : 29-34, 35\nList after converting it from string : [29, 30, 31, 32, 33, 34, 35]\nThe original string is : 1-10\nList after converting it from string : [1, 2, 3, 4, 5, 6, 7, 8, 9, 10]\nThe original string is : 1-6\nList after converting it from string : [1, 2, 3, 4, 5, 6]\nThe original string is : 11-18\nList after converting it from string : [11, 12, 13, 14, 15, 16, 17, 18]\nThe original string is : 7-12\nList after converting it from string : [7, 8, 9, 10, 11, 12]\nThe original string is : 19-24\nList after converting it from string : [19, 20, 21, 22, 23, 24]\nThe original string is : 25-28\nList after converting it from string : [25, 26, 27, 28]\nThe original string is : 13-19\nList after converting it from string : [13, 14, 15, 16, 17, 18, 19]\nThe original string is : 1-8, 9-14\nList after converting it from string : [1, 2, 3, 4, 5, 6, 7, 8, 9, 10, 11, 12, 13, 14]\nThe original string is : 15-18, 27-30\nList after converting it from string : [15, 16, 17, 18, 27, 28, 29, 30]\n"
    }
   ],
   "source": [
    "result = list(result)"
   ]
  },
  {
   "cell_type": "code",
   "execution_count": 54,
   "metadata": {},
   "outputs": [],
   "source": [
    "result = list(map(lambda chapter: [chapter[0], list(map(lambda problem: chapter[0] + \" \" + str(problem), chapter[1]))], result))"
   ]
  },
  {
   "cell_type": "code",
   "execution_count": 56,
   "metadata": {},
   "outputs": [],
   "source": [
    "result = list(map(lambda chapter: chapter[1], result))"
   ]
  },
  {
   "cell_type": "code",
   "execution_count": 58,
   "metadata": {},
   "outputs": [],
   "source": [
    "import itertools"
   ]
  },
  {
   "cell_type": "code",
   "execution_count": 60,
   "metadata": {},
   "outputs": [],
   "source": [
    "merged = list(itertools.chain(*result))"
   ]
  },
  {
   "cell_type": "code",
   "execution_count": 62,
   "metadata": {},
   "outputs": [],
   "source": [
    "import random"
   ]
  },
  {
   "cell_type": "code",
   "execution_count": 66,
   "metadata": {},
   "outputs": [
    {
     "output_type": "execute_result",
     "data": {
      "text/plain": "['2.2 7',\n '2.2 8',\n '2.2 9',\n '2.2 10',\n '2.2 11',\n '2.2 12',\n '2.2 13',\n '2.2 14',\n '2.2 15',\n '2.2 16',\n '2.2 17',\n '2.2 18',\n '2.2 19',\n '2.2 20',\n '2.2 21',\n '2.2 22',\n '2.2 23',\n '2.2 24',\n '2.2 25',\n '2.2 26',\n '2.2 29',\n '2.2 31',\n '2.3 7',\n '2.3 8',\n '2.3 9',\n '2.3 10',\n '2.3 11',\n '2.3 12',\n '2.3 13',\n '2.3 14',\n '2.3 15',\n '2.3 16',\n '2.3 17',\n '2.3 18',\n '2.3 19',\n '2.3 20',\n '2.3 21',\n '2.3 22',\n '2.3 28',\n '2.3 30',\n '2.3 31',\n '2.4 9',\n '2.4 10',\n '2.4 11',\n '2.4 12',\n '2.4 13',\n '2.4 14',\n '2.4 15',\n '2.4 16',\n '2.4 17',\n '2.4 18',\n '2.4 19',\n '2.4 20',\n '2.4 21',\n '2.4 22',\n '2.4 23',\n '2.4 24',\n '2.4 25',\n '2.4 26',\n '2.4 27',\n '2.4 28',\n '2.4 29',\n '2.4 30',\n '4.2 1',\n '4.2 2',\n '4.2 3',\n '4.2 4',\n '4.2 5',\n '4.2 6',\n '4.2 7',\n '4.2 8',\n '4.2 9',\n '4.2 10',\n '4.2 11',\n '4.2 12',\n '4.2 13',\n '4.2 14',\n '4.2 15',\n '4.2 16',\n '4.2 17',\n '4.2 18',\n '4.2 19',\n '4.2 20',\n '4.3 1',\n '4.3 2',\n '4.3 3',\n '4.3 4',\n '4.3 5',\n '4.3 6',\n '4.3 7',\n '4.3 8',\n '4.3 9',\n '4.3 10',\n '4.3 11',\n '4.3 12',\n '4.3 13',\n '4.3 14',\n '4.3 15',\n '4.3 16',\n '4.3 17',\n '4.3 18',\n '4.3 21',\n '4.3 22',\n '4.3 23',\n '4.3 24',\n '4.3 25',\n '4.3 26',\n '4.4 9',\n '4.4 10',\n '4.4 11',\n '4.4 12',\n '4.4 13',\n '4.4 14',\n '4.4 15',\n '4.4 16',\n '4.4 17',\n '4.4 18',\n '4.4 19',\n '4.4 20',\n '4.4 21',\n '4.4 22',\n '4.4 23',\n '4.4 24',\n '4.4 25',\n '4.4 26',\n '4.5 17',\n '4.5 18',\n '4.5 19',\n '4.5 20',\n '4.5 21',\n '4.5 22',\n '4.5 23',\n '4.5 24',\n '4.5 25',\n '4.5 26',\n '4.5 27',\n '4.5 28',\n '4.5 29',\n '4.5 30',\n '4.6 1',\n '4.6 2',\n '4.6 3',\n '4.6 4',\n '4.6 5',\n '4.6 6',\n '4.6 7',\n '4.6 8',\n '4.6 11',\n '4.6 12',\n '4.6 13',\n '4.6 14',\n '4.6 15',\n '4.6 16',\n '4.6 17',\n '4.6 18',\n '4.7 9',\n '4.7 10',\n '4.7 11',\n '4.7 12',\n '4.7 13',\n '4.7 14',\n '4.7 19',\n '4.7 20',\n '4.7 23',\n '4.7 24',\n '4.2 27',\n '4.2 28',\n '4.2 29',\n '4.2 30',\n '4.2 31',\n '4.2 32',\n '4.7 25',\n '4.7 26',\n '4.7 27',\n '4.7 28',\n '4.7 29',\n '4.7 36',\n '4.2 34',\n '4.7 32',\n '4.7 33',\n '4.7 34',\n '4.4 27',\n '4.4 28',\n '4.4 29',\n '4.4 30',\n '4.4 31',\n '4.4 32',\n '4.5 3',\n '4.5 4',\n '4.5 5',\n '4.5 6',\n '4.5 7',\n '4.5 8',\n '4.5 9',\n '4.5 10',\n '4.5 11',\n '4.5 12',\n '4.5 13',\n '4.5 14',\n '4.5 15',\n '4.5 16',\n '4.5 31',\n '4.5 32',\n '4.5 33',\n '4.5 34',\n '4.5 35',\n '4.5 36',\n '4.7 30',\n '4.7 35',\n '4.3 31',\n '4.3 32',\n '4.3 33',\n '4.5 42',\n '4.5 43',\n '4.5 44',\n '4.9 1',\n '4.9 2',\n '4.9 3',\n '4.9 4',\n '4.9 5',\n '4.9 6',\n '4.9 7',\n '4.9 8',\n '4.9 9',\n '4.9 10',\n '4.9 11',\n '4.9 12',\n '4.10 3',\n '4.10 4',\n '4.10 8',\n '4.10 9',\n '4.10 11',\n '4.10 12',\n '4.10 13',\n '4.10 14',\n '4.10 15',\n '7.2 1',\n '7.2 2',\n '7.2 3',\n '7.2 4',\n '7.2 5',\n '7.2 6',\n '7.2 7',\n '7.2 8',\n '7.2 9',\n '7.2 10',\n '7.2 11',\n '7.2 12',\n '7.2 13',\n '7.2 14',\n '7.2 15',\n '7.2 16',\n '7.2 17',\n '7.2 18',\n '7.2 19',\n '7.2 20',\n '7.3 1',\n '7.3 2',\n '7.3 3',\n '7.3 4',\n '7.3 5',\n '7.3 6',\n '7.3 7',\n '7.3 8',\n '7.3 9',\n '7.3 10',\n '7.3 11',\n '7.3 12',\n '7.3 13',\n '7.3 14',\n '7.3 15',\n '7.3 16',\n '7.3 17',\n '7.3 18',\n '7.3 19',\n '7.3 20',\n '7.3 24',\n '7.3 25',\n '7.6 1',\n '7.6 2',\n '7.6 3',\n '7.6 4',\n '7.6 5',\n '7.6 6',\n '7.6 7',\n '7.6 8',\n '7.6 9',\n '7.6 10',\n '7.7 1',\n '7.7 2',\n '7.7 3',\n '7.7 4',\n '7.7 5',\n '7.7 6',\n '7.7 7',\n '7.7 8',\n '7.7 15',\n '7.7 16',\n '7.7 17',\n '7.7 18',\n '7.7 19',\n '7.4 1',\n '7.4 2',\n '7.4 3',\n '7.4 4',\n '7.4 5',\n '7.4 6',\n '7.4 7',\n '7.4 8',\n '7.4 9',\n '7.4 10',\n '7.4 21',\n '7.4 22',\n '7.4 23',\n '7.4 24',\n '7.4 25',\n '7.4 26',\n '7.4 27',\n '7.4 28',\n '7.4 29',\n '7.4 30',\n '7.4 33',\n '7.4 34',\n '7.4 35',\n '7.4 36',\n '7.6 11',\n '7.6 12',\n '7.6 13',\n '7.6 14',\n '7.6 15',\n '7.6 16',\n '7.6 17',\n '7.6 18',\n '7.7 20',\n '7.7 23',\n '7.7 24',\n '7.7 25',\n '7.8 5',\n '7.8 6',\n '7.8 7',\n '7.8 8',\n '7.8 9',\n '7.8 10',\n '7.8 11',\n '7.8 12',\n '7.5 1',\n '7.5 2',\n '7.5 3',\n '7.5 4',\n '7.5 5',\n '7.5 6',\n '7.5 7',\n '7.5 8',\n '7.5 9',\n '7.5 10',\n '7.5 11',\n '7.5 12',\n '7.5 13',\n '7.5 14',\n '7.5 35',\n '7.5 36',\n '7.5 37',\n '7.5 38',\n '7.6 19',\n '7.6 20',\n '7.6 21',\n '7.6 22',\n '7.6 23',\n '7.6 24',\n '7.6 25',\n '7.6 26',\n '7.6 27',\n '7.6 28',\n '7.6 29',\n '7.6 30',\n '7.6 31',\n '7.6 32',\n '7.8 1',\n '7.8 2',\n '7.8 3',\n '7.8 4',\n '7.8 15',\n '7.8 16',\n '7.8 17',\n '7.8 18',\n '7.8 19',\n '7.8 20',\n '7.8 21',\n '7.8 22',\n '9.1 1',\n '9.1 2',\n '9.1 3',\n '9.1 4',\n '9.1 5',\n '9.1 6',\n '9.4 1',\n '9.4 2',\n '9.4 3',\n '9.4 4',\n '9.1 7',\n '9.1 8',\n '9.1 9',\n '9.1 10',\n '9.4 5',\n '9.4 6',\n '9.4 7',\n '9.4 8',\n '9.4 13',\n '9.4 14',\n '9.4 15',\n '9.4 16',\n '9.4 17',\n '9.4 18',\n '9.4 19',\n '9.4 20',\n '9.4 21',\n '9.4 22',\n '9.4 23',\n '9.4 24',\n '9.4 25',\n '9.4 26',\n '9.4 29',\n '9.4 30',\n '9.5 11',\n '9.5 12',\n '9.5 13',\n '9.5 14',\n '9.5 15',\n '9.5 16',\n '9.5 25',\n '9.5 26',\n '9.5 31',\n '9.5 32',\n '9.5 33',\n '9.5 34',\n '9.5 35',\n '9.5 36',\n '9.6 1',\n '9.6 2',\n '9.6 3',\n '9.6 4',\n '9.6 13',\n '9.6 14',\n '9.5 19',\n '9.5 20',\n '9.5 21',\n '9.5 22',\n '9.5 23',\n '9.5 24',\n '9.6 5',\n '9.6 6',\n '9.6 7',\n '9.6 8',\n '9.6 9',\n '8.2 1',\n '8.2 2',\n '8.2 3',\n '8.2 4',\n '8.2 5',\n '8.2 6',\n '8.2 8',\n '8.2 17',\n '8.2 18',\n '8.2 19',\n '8.2 20',\n '8.2 21',\n '8.2 22',\n '8.2 29',\n '8.2 30',\n '8.2 31',\n '8.2 32',\n '8.2 33',\n '8.2 34',\n '8.2 35',\n '8.3 1',\n '8.3 2',\n '8.3 3',\n '8.3 4',\n '8.3 5',\n '8.3 6',\n '8.3 7',\n '8.3 8',\n '8.3 9',\n '8.3 10',\n '8.4 1',\n '8.4 2',\n '8.4 3',\n '8.4 4',\n '8.4 5',\n '8.4 6',\n '8.3 11',\n '8.3 12',\n '8.3 13',\n '8.3 14',\n '8.3 15',\n '8.3 16',\n '8.3 17',\n '8.3 18',\n '8.4 7',\n '8.4 8',\n '8.4 9',\n '8.4 10',\n '8.4 11',\n '8.4 12',\n '8.3 19',\n '8.3 20',\n '8.3 21',\n '8.3 22',\n '8.3 23',\n '8.3 24',\n '8.3 25',\n '8.3 26',\n '8.3 27',\n '8.3 28',\n '8.4 13',\n '8.4 14',\n '8.4 15',\n '8.4 16',\n '8.4 17',\n '8.4 18',\n '8.4 19',\n '10.2 1',\n '10.2 2',\n '10.2 3',\n '10.2 4',\n '10.2 5',\n '10.2 6',\n '10.2 7',\n '10.2 8',\n '10.2 9',\n '10.2 10',\n '10.2 11',\n '10.2 12',\n '10.2 13',\n '10.2 14',\n '10.2 15',\n '10.2 16',\n '10.2 17',\n '10.2 18',\n '10.2 27',\n '10.2 28',\n '10.2 29',\n '10.2 30']"
     },
     "metadata": {},
     "execution_count": 66
    }
   ],
   "source": [
    "merged"
   ]
  },
  {
   "cell_type": "code",
   "execution_count": 63,
   "metadata": {
    "tags": []
   },
   "outputs": [
    {
     "output_type": "stream",
     "name": "stdout",
     "text": "random item from list is:  7.6 15\nrandom item from list is:  8.2 2\nrandom item from list is:  8.2 19\nrandom item from list is:  10.2 10\nrandom item from list is:  7.5 14\nrandom item from list is:  8.4 14\nrandom item from list is:  7.7 23\nrandom item from list is:  8.2 6\nrandom item from list is:  4.6 3\nrandom item from list is:  9.1 9\nrandom item from list is:  4.7 28\nrandom item from list is:  8.3 6\nrandom item from list is:  4.4 16\nrandom item from list is:  4.5 20\nrandom item from list is:  9.4 17\nrandom item from list is:  4.7 24\nrandom item from list is:  7.7 4\nrandom item from list is:  4.10 9\nrandom item from list is:  9.1 7\nrandom item from list is:  9.4 23\nrandom item from list is:  4.5 20\nrandom item from list is:  7.2 16\nrandom item from list is:  9.4 19\nrandom item from list is:  4.7 25\nrandom item from list is:  8.3 11\n"
    }
   ],
   "source": [
    "for _ in itertools.repeat(None, 25):\n",
    "    print(\"random item from list is: \", random.choice(merged))"
   ]
  },
  {
   "cell_type": "code",
   "execution_count": 64,
   "metadata": {
    "tags": []
   },
   "outputs": [
    {
     "output_type": "stream",
     "name": "stdout",
     "text": "random item from list is:  8.2 21\nrandom item from list is:  4.4 26\nrandom item from list is:  7.6 24\nrandom item from list is:  4.5 18\nrandom item from list is:  2.4 22\nrandom item from list is:  7.6 23\nrandom item from list is:  4.9 2\nrandom item from list is:  7.3 11\nrandom item from list is:  9.4 29\nrandom item from list is:  9.4 13\nrandom item from list is:  4.7 14\nrandom item from list is:  4.7 10\nrandom item from list is:  9.4 5\nrandom item from list is:  8.2 31\nrandom item from list is:  4.2 18\nrandom item from list is:  9.6 4\nrandom item from list is:  9.4 23\nrandom item from list is:  7.5 2\nrandom item from list is:  4.7 19\nrandom item from list is:  7.6 17\nrandom item from list is:  4.4 16\nrandom item from list is:  9.5 21\nrandom item from list is:  2.3 22\nrandom item from list is:  7.4 5\nrandom item from list is:  4.3 13\nrandom item from list is:  4.6 8\nrandom item from list is:  4.5 4\nrandom item from list is:  2.4 15\nrandom item from list is:  8.4 7\nrandom item from list is:  7.7 1\nrandom item from list is:  7.6 26\nrandom item from list is:  7.2 1\nrandom item from list is:  4.3 2\nrandom item from list is:  8.2 18\nrandom item from list is:  7.2 19\nrandom item from list is:  7.6 17\nrandom item from list is:  4.5 8\nrandom item from list is:  7.5 2\nrandom item from list is:  9.1 5\nrandom item from list is:  4.7 34\nrandom item from list is:  4.3 13\nrandom item from list is:  8.4 14\nrandom item from list is:  4.3 26\nrandom item from list is:  10.2 29\nrandom item from list is:  4.4 26\nrandom item from list is:  9.5 14\nrandom item from list is:  8.4 1\nrandom item from list is:  8.4 15\nrandom item from list is:  7.4 35\nrandom item from list is:  9.5 15\n"
    }
   ],
   "source": [
    "for _ in itertools.repeat(None, 50):\n",
    "    print(\"random item from list is: \", random.choice(merged))"
   ]
  },
  {
   "cell_type": "code",
   "execution_count": null,
   "metadata": {},
   "outputs": [],
   "source": []
  }
 ]
}